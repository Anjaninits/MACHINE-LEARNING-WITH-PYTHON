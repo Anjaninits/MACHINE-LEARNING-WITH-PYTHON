{
  "nbformat": 4,
  "nbformat_minor": 0,
  "metadata": {
    "colab": {
      "provenance": []
    },
    "kernelspec": {
      "name": "python3",
      "display_name": "Python 3"
    },
    "language_info": {
      "name": "python"
    }
  },
  "cells": [
    {
      "cell_type": "code",
      "execution_count": null,
      "metadata": {
        "id": "2AGKCk66XWoc"
      },
      "outputs": [],
      "source": [
        "\n",
        "# Python program for calculating Mean Absolute Error\n",
        "  \n",
        "# consider a list of integers for actual\n",
        "actual = [2, 3, 5, 5, 9]\n",
        "  \n",
        "# consider a list of integers for calculated\n",
        "calculated = [3, 3, 8, 7, 6]\n",
        "  \n",
        "n = 5\n",
        "sum = 0\n",
        "  \n",
        "# for loop for iteration\n",
        "for i in range(n):\n",
        "    sum += abs(actual[i] - calculated[i])\n",
        "  \n",
        "error = sum/n\n",
        "  \n",
        "# display\n",
        "print(\"Mean absolute error : \" + str(error))"
      ]
    },
    {
      "cell_type": "code",
      "source": [
        "# Python program for calculating Mean Absolute\n",
        "# Error using sklearn\n",
        "\n",
        "# import the module\n",
        "from sklearn.metrics import mean_absolute_error as mae\n",
        "\n",
        "# list of integers of actual and calculated\n",
        "actual = [2, 3, 5, 5, 9]\n",
        "calculated = [3, 3, 8, 7, 6]\n",
        "\n",
        "# calculate MAE\n",
        "error = mae(actual, calculated)\n",
        "\n",
        "# display\n",
        "print(\"Mean absolute error : \" + str(error))\n"
      ],
      "metadata": {
        "id": "AfV87urrapVp"
      },
      "execution_count": null,
      "outputs": []
    },
    {
      "cell_type": "code",
      "source": [],
      "metadata": {
        "id": "Yll99wRPapXv"
      },
      "execution_count": null,
      "outputs": []
    },
    {
      "cell_type": "code",
      "source": [],
      "metadata": {
        "id": "Yi-fH8w8apbI"
      },
      "execution_count": null,
      "outputs": []
    }
  ]
}