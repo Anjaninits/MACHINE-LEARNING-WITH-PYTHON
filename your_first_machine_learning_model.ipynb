{
  "cells": [
    {
      "cell_type": "markdown",
      "id": "cf6c31de",
      "metadata": {
        "papermill": {
          "duration": 0.010438,
          "end_time": "2021-11-09T00:01:18.025351",
          "exception": false,
          "start_time": "2021-11-09T00:01:18.014913",
          "status": "completed"
        },
        "tags": [],
        "id": "cf6c31de"
      },
      "source": [
        "# Selecting Data for Modeling\n",
        "Your dataset had  too many variables to wrap your head around, or even to print out nicely.  How can you pare down this overwhelming amount of data to something you can understand?\n",
        "\n",
        "We'll start by picking a few variables using our intuition. Later courses will show you statistical techniques to automatically prioritize variables.\n",
        "\n",
        "To choose variables/columns, we'll need to see a list of all columns in the dataset. That is done with the **columns** property of the DataFrame (the bottom line of code below).\n"
      ]
    },
    {
      "cell_type": "code",
      "execution_count": 1,
      "id": "9f5e9c95",
      "metadata": {
        "execution": {
          "iopub.execute_input": "2021-11-09T00:01:18.051021Z",
          "iopub.status.busy": "2021-11-09T00:01:18.049219Z",
          "iopub.status.idle": "2021-11-09T00:01:18.185339Z",
          "shell.execute_reply": "2021-11-09T00:01:18.185856Z"
        },
        "papermill": {
          "duration": 0.151029,
          "end_time": "2021-11-09T00:01:18.186138",
          "exception": false,
          "start_time": "2021-11-09T00:01:18.035109",
          "status": "completed"
        },
        "tags": [],
        "colab": {
          "base_uri": "https://localhost:8080/"
        },
        "id": "9f5e9c95",
        "outputId": "c2245929-8171-49a3-b51a-3d1f8f58caa0"
      },
      "outputs": [
        {
          "output_type": "execute_result",
          "data": {
            "text/plain": [
              "Index(['a(cm)', 'h(cm)', 'permitivity', 'ratio', 'Measured frequency'], dtype='object')"
            ]
          },
          "metadata": {},
          "execution_count": 1
        }
      ],
      "source": [
        "import pandas as pd\n",
        "\n",
        "melbourne_file_path = '../content/Frequency measurement_1.csv'\n",
        "melbourne_data = pd.read_csv(melbourne_file_path) \n",
        "melbourne_data.columns"
      ]
    },
    {
      "cell_type": "code",
      "execution_count": 3,
      "id": "13e3d4a6",
      "metadata": {
        "execution": {
          "iopub.execute_input": "2021-11-09T00:01:18.214401Z",
          "iopub.status.busy": "2021-11-09T00:01:18.213431Z",
          "iopub.status.idle": "2021-11-09T00:01:18.239193Z",
          "shell.execute_reply": "2021-11-09T00:01:18.238499Z"
        },
        "papermill": {
          "duration": 0.043215,
          "end_time": "2021-11-09T00:01:18.239351",
          "exception": false,
          "start_time": "2021-11-09T00:01:18.196136",
          "status": "completed"
        },
        "tags": [],
        "id": "13e3d4a6"
      },
      "outputs": [],
      "source": [
        "# The Melbourne data has some missing values (some houses for which some variables weren't recorded.)\n",
        "# We'll learn to handle missing values in a later tutorial.  \n",
        "# Your Iowa data doesn't have missing values in the columns you use. \n",
        "# So we will take the simplest option for now, and drop houses from our data. \n",
        "# Don't worry about this much for now, though the code is:\n",
        "\n",
        "# dropna drops missing values (think of na as \"not available\")\n",
        "melbourne_data = melbourne_data.dropna(axis=0)"
      ]
    },
    {
      "cell_type": "markdown",
      "id": "86977cbe",
      "metadata": {
        "papermill": {
          "duration": 0.010888,
          "end_time": "2021-11-09T00:01:18.260527",
          "exception": false,
          "start_time": "2021-11-09T00:01:18.249639",
          "status": "completed"
        },
        "tags": [],
        "id": "86977cbe"
      },
      "source": [
        "There are many ways to select a subset of your data. The [Pandas course](https://www.kaggle.com/learn/pandas) covers these in more depth, but we will focus on two approaches for now.\n",
        "\n",
        "1. Dot notation, which we use to select the \"prediction target\"\n",
        "2. Selecting with a column list, which we use to select the \"features\" \n",
        "\n",
        "## Selecting The Prediction Target \n",
        "You can pull out a variable with **dot-notation**.  This single column is stored in a **Series**, which is broadly like a DataFrame with only a single column of data.  \n",
        "\n",
        "We'll use the dot notation to select the column we want to predict, which is called the **prediction target**. By convention, the prediction target is called **y**. So the code we need to save the house prices in the Melbourne data is"
      ]
    },
    {
      "cell_type": "code",
      "execution_count": 6,
      "id": "2c930e65",
      "metadata": {
        "collapsed": true,
        "execution": {
          "iopub.execute_input": "2021-11-09T00:01:18.285991Z",
          "iopub.status.busy": "2021-11-09T00:01:18.284638Z",
          "iopub.status.idle": "2021-11-09T00:01:18.295906Z",
          "shell.execute_reply": "2021-11-09T00:01:18.295312Z"
        },
        "papermill": {
          "duration": 0.02532,
          "end_time": "2021-11-09T00:01:18.296053",
          "exception": false,
          "start_time": "2021-11-09T00:01:18.270733",
          "status": "completed"
        },
        "tags": [],
        "id": "2c930e65"
      },
      "outputs": [],
      "source": [
        "y = melbourne_data.ratio"
      ]
    },
    {
      "cell_type": "markdown",
      "id": "c3dce93e",
      "metadata": {
        "papermill": {
          "duration": 0.009417,
          "end_time": "2021-11-09T00:01:18.315330",
          "exception": false,
          "start_time": "2021-11-09T00:01:18.305913",
          "status": "completed"
        },
        "tags": [],
        "id": "c3dce93e"
      },
      "source": [
        "# Choosing \"Features\"\n",
        "The columns that are inputted into our model (and later used to make predictions) are called \"features.\" In our case, those would be the columns used to determine the home price. Sometimes, you will use all columns except the target as features. Other times you'll be better off with fewer features. \n",
        "\n",
        "For now, we'll build a model with only a few features. Later on you'll see how to iterate and compare models built with different features.\n",
        "\n",
        "We select multiple features by providing a list of column names inside brackets. Each item in that list should be a string (with quotes).\n",
        "\n",
        "Here is an example:"
      ]
    },
    {
      "cell_type": "code",
      "execution_count": 7,
      "id": "0785c333",
      "metadata": {
        "collapsed": true,
        "execution": {
          "iopub.execute_input": "2021-11-09T00:01:18.338156Z",
          "iopub.status.busy": "2021-11-09T00:01:18.337480Z",
          "iopub.status.idle": "2021-11-09T00:01:18.340893Z",
          "shell.execute_reply": "2021-11-09T00:01:18.341325Z"
        },
        "papermill": {
          "duration": 0.016509,
          "end_time": "2021-11-09T00:01:18.341525",
          "exception": false,
          "start_time": "2021-11-09T00:01:18.325016",
          "status": "completed"
        },
        "tags": [],
        "id": "0785c333"
      },
      "outputs": [],
      "source": [
        "melbourne_features = ['a(cm)', 'h(cm)', 'permitivity', 'ratio', 'Measured frequency']"
      ]
    },
    {
      "cell_type": "markdown",
      "id": "b8ea0ac5",
      "metadata": {
        "papermill": {
          "duration": 0.010313,
          "end_time": "2021-11-09T00:01:18.362549",
          "exception": false,
          "start_time": "2021-11-09T00:01:18.352236",
          "status": "completed"
        },
        "tags": [],
        "id": "b8ea0ac5"
      },
      "source": [
        "By convention, this data is called **X**."
      ]
    },
    {
      "cell_type": "code",
      "execution_count": 8,
      "id": "caba549d",
      "metadata": {
        "collapsed": true,
        "execution": {
          "iopub.execute_input": "2021-11-09T00:01:18.385348Z",
          "iopub.status.busy": "2021-11-09T00:01:18.384723Z",
          "iopub.status.idle": "2021-11-09T00:01:18.391379Z",
          "shell.execute_reply": "2021-11-09T00:01:18.391954Z"
        },
        "papermill": {
          "duration": 0.019843,
          "end_time": "2021-11-09T00:01:18.392142",
          "exception": false,
          "start_time": "2021-11-09T00:01:18.372299",
          "status": "completed"
        },
        "tags": [],
        "id": "caba549d"
      },
      "outputs": [],
      "source": [
        "X = melbourne_data[melbourne_features]"
      ]
    },
    {
      "cell_type": "markdown",
      "id": "3f7aaf56",
      "metadata": {
        "papermill": {
          "duration": 0.009694,
          "end_time": "2021-11-09T00:01:18.412328",
          "exception": false,
          "start_time": "2021-11-09T00:01:18.402634",
          "status": "completed"
        },
        "tags": [],
        "id": "3f7aaf56"
      },
      "source": [
        "Let's quickly review the data we'll be using to predict house prices using the `describe` method and the `head` method, which shows the top few rows."
      ]
    },
    {
      "cell_type": "code",
      "execution_count": 9,
      "id": "e1c8c23e",
      "metadata": {
        "execution": {
          "iopub.execute_input": "2021-11-09T00:01:18.436486Z",
          "iopub.status.busy": "2021-11-09T00:01:18.435790Z",
          "iopub.status.idle": "2021-11-09T00:01:18.468554Z",
          "shell.execute_reply": "2021-11-09T00:01:18.469002Z"
        },
        "papermill": {
          "duration": 0.046281,
          "end_time": "2021-11-09T00:01:18.469195",
          "exception": false,
          "start_time": "2021-11-09T00:01:18.422914",
          "status": "completed"
        },
        "tags": [],
        "colab": {
          "base_uri": "https://localhost:8080/",
          "height": 300
        },
        "id": "e1c8c23e",
        "outputId": "ee910f2c-70db-4bde-d458-2a2df41b500e"
      },
      "outputs": [
        {
          "output_type": "execute_result",
          "data": {
            "text/plain": [
              "           a(cm)      h(cm)  permitivity      ratio  Measured frequency\n",
              "count  20.000000  20.000000    20.000000  20.000000           20.000000\n",
              "mean    3.138550   0.197293     3.121500   0.054910         2714.600000\n",
              "std     2.179018   0.070201     0.966286   0.123312         2009.707792\n",
              "min     0.740000   0.079400     2.320000   0.003392          815.000000\n",
              "25%     1.062500   0.158750     2.497500   0.013154         1081.750000\n",
              "50%     3.241500   0.159000     2.650000   0.020609         1540.000000\n",
              "75%     4.875000   0.235000     4.550000   0.041764         4499.500000\n",
              "max     6.800000   0.318000     4.550000   0.571460         6634.000000"
            ],
            "text/html": [
              "\n",
              "  <div id=\"df-1abe4411-ccf5-4c92-a356-b32f641d6cce\">\n",
              "    <div class=\"colab-df-container\">\n",
              "      <div>\n",
              "<style scoped>\n",
              "    .dataframe tbody tr th:only-of-type {\n",
              "        vertical-align: middle;\n",
              "    }\n",
              "\n",
              "    .dataframe tbody tr th {\n",
              "        vertical-align: top;\n",
              "    }\n",
              "\n",
              "    .dataframe thead th {\n",
              "        text-align: right;\n",
              "    }\n",
              "</style>\n",
              "<table border=\"1\" class=\"dataframe\">\n",
              "  <thead>\n",
              "    <tr style=\"text-align: right;\">\n",
              "      <th></th>\n",
              "      <th>a(cm)</th>\n",
              "      <th>h(cm)</th>\n",
              "      <th>permitivity</th>\n",
              "      <th>ratio</th>\n",
              "      <th>Measured frequency</th>\n",
              "    </tr>\n",
              "  </thead>\n",
              "  <tbody>\n",
              "    <tr>\n",
              "      <th>count</th>\n",
              "      <td>20.000000</td>\n",
              "      <td>20.000000</td>\n",
              "      <td>20.000000</td>\n",
              "      <td>20.000000</td>\n",
              "      <td>20.000000</td>\n",
              "    </tr>\n",
              "    <tr>\n",
              "      <th>mean</th>\n",
              "      <td>3.138550</td>\n",
              "      <td>0.197293</td>\n",
              "      <td>3.121500</td>\n",
              "      <td>0.054910</td>\n",
              "      <td>2714.600000</td>\n",
              "    </tr>\n",
              "    <tr>\n",
              "      <th>std</th>\n",
              "      <td>2.179018</td>\n",
              "      <td>0.070201</td>\n",
              "      <td>0.966286</td>\n",
              "      <td>0.123312</td>\n",
              "      <td>2009.707792</td>\n",
              "    </tr>\n",
              "    <tr>\n",
              "      <th>min</th>\n",
              "      <td>0.740000</td>\n",
              "      <td>0.079400</td>\n",
              "      <td>2.320000</td>\n",
              "      <td>0.003392</td>\n",
              "      <td>815.000000</td>\n",
              "    </tr>\n",
              "    <tr>\n",
              "      <th>25%</th>\n",
              "      <td>1.062500</td>\n",
              "      <td>0.158750</td>\n",
              "      <td>2.497500</td>\n",
              "      <td>0.013154</td>\n",
              "      <td>1081.750000</td>\n",
              "    </tr>\n",
              "    <tr>\n",
              "      <th>50%</th>\n",
              "      <td>3.241500</td>\n",
              "      <td>0.159000</td>\n",
              "      <td>2.650000</td>\n",
              "      <td>0.020609</td>\n",
              "      <td>1540.000000</td>\n",
              "    </tr>\n",
              "    <tr>\n",
              "      <th>75%</th>\n",
              "      <td>4.875000</td>\n",
              "      <td>0.235000</td>\n",
              "      <td>4.550000</td>\n",
              "      <td>0.041764</td>\n",
              "      <td>4499.500000</td>\n",
              "    </tr>\n",
              "    <tr>\n",
              "      <th>max</th>\n",
              "      <td>6.800000</td>\n",
              "      <td>0.318000</td>\n",
              "      <td>4.550000</td>\n",
              "      <td>0.571460</td>\n",
              "      <td>6634.000000</td>\n",
              "    </tr>\n",
              "  </tbody>\n",
              "</table>\n",
              "</div>\n",
              "      <button class=\"colab-df-convert\" onclick=\"convertToInteractive('df-1abe4411-ccf5-4c92-a356-b32f641d6cce')\"\n",
              "              title=\"Convert this dataframe to an interactive table.\"\n",
              "              style=\"display:none;\">\n",
              "        \n",
              "  <svg xmlns=\"http://www.w3.org/2000/svg\" height=\"24px\"viewBox=\"0 0 24 24\"\n",
              "       width=\"24px\">\n",
              "    <path d=\"M0 0h24v24H0V0z\" fill=\"none\"/>\n",
              "    <path d=\"M18.56 5.44l.94 2.06.94-2.06 2.06-.94-2.06-.94-.94-2.06-.94 2.06-2.06.94zm-11 1L8.5 8.5l.94-2.06 2.06-.94-2.06-.94L8.5 2.5l-.94 2.06-2.06.94zm10 10l.94 2.06.94-2.06 2.06-.94-2.06-.94-.94-2.06-.94 2.06-2.06.94z\"/><path d=\"M17.41 7.96l-1.37-1.37c-.4-.4-.92-.59-1.43-.59-.52 0-1.04.2-1.43.59L10.3 9.45l-7.72 7.72c-.78.78-.78 2.05 0 2.83L4 21.41c.39.39.9.59 1.41.59.51 0 1.02-.2 1.41-.59l7.78-7.78 2.81-2.81c.8-.78.8-2.07 0-2.86zM5.41 20L4 18.59l7.72-7.72 1.47 1.35L5.41 20z\"/>\n",
              "  </svg>\n",
              "      </button>\n",
              "      \n",
              "  <style>\n",
              "    .colab-df-container {\n",
              "      display:flex;\n",
              "      flex-wrap:wrap;\n",
              "      gap: 12px;\n",
              "    }\n",
              "\n",
              "    .colab-df-convert {\n",
              "      background-color: #E8F0FE;\n",
              "      border: none;\n",
              "      border-radius: 50%;\n",
              "      cursor: pointer;\n",
              "      display: none;\n",
              "      fill: #1967D2;\n",
              "      height: 32px;\n",
              "      padding: 0 0 0 0;\n",
              "      width: 32px;\n",
              "    }\n",
              "\n",
              "    .colab-df-convert:hover {\n",
              "      background-color: #E2EBFA;\n",
              "      box-shadow: 0px 1px 2px rgba(60, 64, 67, 0.3), 0px 1px 3px 1px rgba(60, 64, 67, 0.15);\n",
              "      fill: #174EA6;\n",
              "    }\n",
              "\n",
              "    [theme=dark] .colab-df-convert {\n",
              "      background-color: #3B4455;\n",
              "      fill: #D2E3FC;\n",
              "    }\n",
              "\n",
              "    [theme=dark] .colab-df-convert:hover {\n",
              "      background-color: #434B5C;\n",
              "      box-shadow: 0px 1px 3px 1px rgba(0, 0, 0, 0.15);\n",
              "      filter: drop-shadow(0px 1px 2px rgba(0, 0, 0, 0.3));\n",
              "      fill: #FFFFFF;\n",
              "    }\n",
              "  </style>\n",
              "\n",
              "      <script>\n",
              "        const buttonEl =\n",
              "          document.querySelector('#df-1abe4411-ccf5-4c92-a356-b32f641d6cce button.colab-df-convert');\n",
              "        buttonEl.style.display =\n",
              "          google.colab.kernel.accessAllowed ? 'block' : 'none';\n",
              "\n",
              "        async function convertToInteractive(key) {\n",
              "          const element = document.querySelector('#df-1abe4411-ccf5-4c92-a356-b32f641d6cce');\n",
              "          const dataTable =\n",
              "            await google.colab.kernel.invokeFunction('convertToInteractive',\n",
              "                                                     [key], {});\n",
              "          if (!dataTable) return;\n",
              "\n",
              "          const docLinkHtml = 'Like what you see? Visit the ' +\n",
              "            '<a target=\"_blank\" href=https://colab.research.google.com/notebooks/data_table.ipynb>data table notebook</a>'\n",
              "            + ' to learn more about interactive tables.';\n",
              "          element.innerHTML = '';\n",
              "          dataTable['output_type'] = 'display_data';\n",
              "          await google.colab.output.renderOutput(dataTable, element);\n",
              "          const docLink = document.createElement('div');\n",
              "          docLink.innerHTML = docLinkHtml;\n",
              "          element.appendChild(docLink);\n",
              "        }\n",
              "      </script>\n",
              "    </div>\n",
              "  </div>\n",
              "  "
            ]
          },
          "metadata": {},
          "execution_count": 9
        }
      ],
      "source": [
        "X.describe()"
      ]
    },
    {
      "cell_type": "code",
      "execution_count": 10,
      "id": "1611ace0",
      "metadata": {
        "execution": {
          "iopub.execute_input": "2021-11-09T00:01:18.494973Z",
          "iopub.status.busy": "2021-11-09T00:01:18.494196Z",
          "iopub.status.idle": "2021-11-09T00:01:18.505156Z",
          "shell.execute_reply": "2021-11-09T00:01:18.505673Z"
        },
        "papermill": {
          "duration": 0.025475,
          "end_time": "2021-11-09T00:01:18.505852",
          "exception": false,
          "start_time": "2021-11-09T00:01:18.480377",
          "status": "completed"
        },
        "tags": [],
        "colab": {
          "base_uri": "https://localhost:8080/",
          "height": 206
        },
        "id": "1611ace0",
        "outputId": "737877f7-01b6-440f-cd76-b24671d0ea08"
      },
      "outputs": [
        {
          "output_type": "execute_result",
          "data": {
            "text/plain": [
              "   a(cm)   h(cm)  permitivity     ratio  Measured frequency\n",
              "0    6.8  0.0800         2.32  0.003392                 835\n",
              "1    6.8  0.1590         2.32  0.006692                 829\n",
              "2    6.8  0.3180         2.32  0.013159                 815\n",
              "3    5.0  0.1590         2.32  0.009106                1128\n",
              "4    3.8  0.1524         2.49  0.011567                1443"
            ],
            "text/html": [
              "\n",
              "  <div id=\"df-8a260a8a-55ac-44ec-ae8a-e2ea1ad02eb2\">\n",
              "    <div class=\"colab-df-container\">\n",
              "      <div>\n",
              "<style scoped>\n",
              "    .dataframe tbody tr th:only-of-type {\n",
              "        vertical-align: middle;\n",
              "    }\n",
              "\n",
              "    .dataframe tbody tr th {\n",
              "        vertical-align: top;\n",
              "    }\n",
              "\n",
              "    .dataframe thead th {\n",
              "        text-align: right;\n",
              "    }\n",
              "</style>\n",
              "<table border=\"1\" class=\"dataframe\">\n",
              "  <thead>\n",
              "    <tr style=\"text-align: right;\">\n",
              "      <th></th>\n",
              "      <th>a(cm)</th>\n",
              "      <th>h(cm)</th>\n",
              "      <th>permitivity</th>\n",
              "      <th>ratio</th>\n",
              "      <th>Measured frequency</th>\n",
              "    </tr>\n",
              "  </thead>\n",
              "  <tbody>\n",
              "    <tr>\n",
              "      <th>0</th>\n",
              "      <td>6.8</td>\n",
              "      <td>0.0800</td>\n",
              "      <td>2.32</td>\n",
              "      <td>0.003392</td>\n",
              "      <td>835</td>\n",
              "    </tr>\n",
              "    <tr>\n",
              "      <th>1</th>\n",
              "      <td>6.8</td>\n",
              "      <td>0.1590</td>\n",
              "      <td>2.32</td>\n",
              "      <td>0.006692</td>\n",
              "      <td>829</td>\n",
              "    </tr>\n",
              "    <tr>\n",
              "      <th>2</th>\n",
              "      <td>6.8</td>\n",
              "      <td>0.3180</td>\n",
              "      <td>2.32</td>\n",
              "      <td>0.013159</td>\n",
              "      <td>815</td>\n",
              "    </tr>\n",
              "    <tr>\n",
              "      <th>3</th>\n",
              "      <td>5.0</td>\n",
              "      <td>0.1590</td>\n",
              "      <td>2.32</td>\n",
              "      <td>0.009106</td>\n",
              "      <td>1128</td>\n",
              "    </tr>\n",
              "    <tr>\n",
              "      <th>4</th>\n",
              "      <td>3.8</td>\n",
              "      <td>0.1524</td>\n",
              "      <td>2.49</td>\n",
              "      <td>0.011567</td>\n",
              "      <td>1443</td>\n",
              "    </tr>\n",
              "  </tbody>\n",
              "</table>\n",
              "</div>\n",
              "      <button class=\"colab-df-convert\" onclick=\"convertToInteractive('df-8a260a8a-55ac-44ec-ae8a-e2ea1ad02eb2')\"\n",
              "              title=\"Convert this dataframe to an interactive table.\"\n",
              "              style=\"display:none;\">\n",
              "        \n",
              "  <svg xmlns=\"http://www.w3.org/2000/svg\" height=\"24px\"viewBox=\"0 0 24 24\"\n",
              "       width=\"24px\">\n",
              "    <path d=\"M0 0h24v24H0V0z\" fill=\"none\"/>\n",
              "    <path d=\"M18.56 5.44l.94 2.06.94-2.06 2.06-.94-2.06-.94-.94-2.06-.94 2.06-2.06.94zm-11 1L8.5 8.5l.94-2.06 2.06-.94-2.06-.94L8.5 2.5l-.94 2.06-2.06.94zm10 10l.94 2.06.94-2.06 2.06-.94-2.06-.94-.94-2.06-.94 2.06-2.06.94z\"/><path d=\"M17.41 7.96l-1.37-1.37c-.4-.4-.92-.59-1.43-.59-.52 0-1.04.2-1.43.59L10.3 9.45l-7.72 7.72c-.78.78-.78 2.05 0 2.83L4 21.41c.39.39.9.59 1.41.59.51 0 1.02-.2 1.41-.59l7.78-7.78 2.81-2.81c.8-.78.8-2.07 0-2.86zM5.41 20L4 18.59l7.72-7.72 1.47 1.35L5.41 20z\"/>\n",
              "  </svg>\n",
              "      </button>\n",
              "      \n",
              "  <style>\n",
              "    .colab-df-container {\n",
              "      display:flex;\n",
              "      flex-wrap:wrap;\n",
              "      gap: 12px;\n",
              "    }\n",
              "\n",
              "    .colab-df-convert {\n",
              "      background-color: #E8F0FE;\n",
              "      border: none;\n",
              "      border-radius: 50%;\n",
              "      cursor: pointer;\n",
              "      display: none;\n",
              "      fill: #1967D2;\n",
              "      height: 32px;\n",
              "      padding: 0 0 0 0;\n",
              "      width: 32px;\n",
              "    }\n",
              "\n",
              "    .colab-df-convert:hover {\n",
              "      background-color: #E2EBFA;\n",
              "      box-shadow: 0px 1px 2px rgba(60, 64, 67, 0.3), 0px 1px 3px 1px rgba(60, 64, 67, 0.15);\n",
              "      fill: #174EA6;\n",
              "    }\n",
              "\n",
              "    [theme=dark] .colab-df-convert {\n",
              "      background-color: #3B4455;\n",
              "      fill: #D2E3FC;\n",
              "    }\n",
              "\n",
              "    [theme=dark] .colab-df-convert:hover {\n",
              "      background-color: #434B5C;\n",
              "      box-shadow: 0px 1px 3px 1px rgba(0, 0, 0, 0.15);\n",
              "      filter: drop-shadow(0px 1px 2px rgba(0, 0, 0, 0.3));\n",
              "      fill: #FFFFFF;\n",
              "    }\n",
              "  </style>\n",
              "\n",
              "      <script>\n",
              "        const buttonEl =\n",
              "          document.querySelector('#df-8a260a8a-55ac-44ec-ae8a-e2ea1ad02eb2 button.colab-df-convert');\n",
              "        buttonEl.style.display =\n",
              "          google.colab.kernel.accessAllowed ? 'block' : 'none';\n",
              "\n",
              "        async function convertToInteractive(key) {\n",
              "          const element = document.querySelector('#df-8a260a8a-55ac-44ec-ae8a-e2ea1ad02eb2');\n",
              "          const dataTable =\n",
              "            await google.colab.kernel.invokeFunction('convertToInteractive',\n",
              "                                                     [key], {});\n",
              "          if (!dataTable) return;\n",
              "\n",
              "          const docLinkHtml = 'Like what you see? Visit the ' +\n",
              "            '<a target=\"_blank\" href=https://colab.research.google.com/notebooks/data_table.ipynb>data table notebook</a>'\n",
              "            + ' to learn more about interactive tables.';\n",
              "          element.innerHTML = '';\n",
              "          dataTable['output_type'] = 'display_data';\n",
              "          await google.colab.output.renderOutput(dataTable, element);\n",
              "          const docLink = document.createElement('div');\n",
              "          docLink.innerHTML = docLinkHtml;\n",
              "          element.appendChild(docLink);\n",
              "        }\n",
              "      </script>\n",
              "    </div>\n",
              "  </div>\n",
              "  "
            ]
          },
          "metadata": {},
          "execution_count": 10
        }
      ],
      "source": [
        "X.head()"
      ]
    },
    {
      "cell_type": "markdown",
      "id": "43185f77",
      "metadata": {
        "papermill": {
          "duration": 0.011205,
          "end_time": "2021-11-09T00:01:18.528204",
          "exception": false,
          "start_time": "2021-11-09T00:01:18.516999",
          "status": "completed"
        },
        "tags": [],
        "id": "43185f77"
      },
      "source": [
        "Visually checking your data with these commands is an important part of a data scientist's job.  You'll frequently find surprises in the dataset that deserve further inspection."
      ]
    },
    {
      "cell_type": "markdown",
      "id": "4176e64a",
      "metadata": {
        "papermill": {
          "duration": 0.010664,
          "end_time": "2021-11-09T00:01:18.549929",
          "exception": false,
          "start_time": "2021-11-09T00:01:18.539265",
          "status": "completed"
        },
        "tags": [],
        "id": "4176e64a"
      },
      "source": [
        "---\n",
        "# Building Your Model\n",
        "\n",
        "You will use the **scikit-learn** library to create your models.  When coding, this library is written as **sklearn**, as you will see in the sample code. Scikit-learn is easily the most popular library for modeling the types of data typically stored in DataFrames. \n",
        "\n",
        "The steps to building and using a model are:\n",
        "* **Define:** What type of model will it be?  A decision tree?  Some other type of model? Some other parameters of the model type are specified too.\n",
        "* **Fit:** Capture patterns from provided data. This is the heart of modeling.\n",
        "* **Predict:** Just what it sounds like\n",
        "* **Evaluate**: Determine how accurate the model's predictions are.\n",
        "\n",
        "Here is an example of defining a decision tree model with scikit-learn and fitting it with the features and target variable."
      ]
    },
    {
      "cell_type": "code",
      "execution_count": 11,
      "id": "1e716f1d",
      "metadata": {
        "collapsed": true,
        "execution": {
          "iopub.execute_input": "2021-11-09T00:01:18.575825Z",
          "iopub.status.busy": "2021-11-09T00:01:18.575180Z",
          "iopub.status.idle": "2021-11-09T00:01:19.739988Z",
          "shell.execute_reply": "2021-11-09T00:01:19.740473Z"
        },
        "papermill": {
          "duration": 1.179906,
          "end_time": "2021-11-09T00:01:19.740675",
          "exception": false,
          "start_time": "2021-11-09T00:01:18.560769",
          "status": "completed"
        },
        "tags": [],
        "colab": {
          "base_uri": "https://localhost:8080/"
        },
        "id": "1e716f1d",
        "outputId": "254a6465-36e9-44c4-88de-63f0562e286f"
      },
      "outputs": [
        {
          "output_type": "execute_result",
          "data": {
            "text/plain": [
              "DecisionTreeRegressor(random_state=1)"
            ]
          },
          "metadata": {},
          "execution_count": 11
        }
      ],
      "source": [
        "from sklearn.tree import DecisionTreeRegressor\n",
        "\n",
        "# Define model. Specify a number for random_state to ensure same results each run\n",
        "melbourne_model = DecisionTreeRegressor(random_state=1)\n",
        "\n",
        "# Fit model\n",
        "melbourne_model.fit(X, y)"
      ]
    },
    {
      "cell_type": "markdown",
      "id": "3fb6db3c",
      "metadata": {
        "papermill": {
          "duration": 0.011196,
          "end_time": "2021-11-09T00:01:19.764031",
          "exception": false,
          "start_time": "2021-11-09T00:01:19.752835",
          "status": "completed"
        },
        "tags": [],
        "id": "3fb6db3c"
      },
      "source": [
        "Many machine learning models allow some randomness in model training. Specifying a number for `random_state` ensures you get the same results in each run. This is considered a good practice. You use any number, and model quality won't depend meaningfully on exactly what value you choose.\n",
        "\n",
        "We now have a fitted model that we can use to make predictions.\n",
        "\n",
        "In practice, you'll want to make predictions for new houses coming on the market rather than the houses we already have prices for. But we'll make predictions for the first few rows of the training data to see how the predict function works.\n"
      ]
    },
    {
      "cell_type": "code",
      "execution_count": 12,
      "id": "3b962e6b",
      "metadata": {
        "collapsed": true,
        "execution": {
          "iopub.execute_input": "2021-11-09T00:01:19.791031Z",
          "iopub.status.busy": "2021-11-09T00:01:19.790299Z",
          "iopub.status.idle": "2021-11-09T00:01:19.801998Z",
          "shell.execute_reply": "2021-11-09T00:01:19.802695Z"
        },
        "papermill": {
          "duration": 0.027281,
          "end_time": "2021-11-09T00:01:19.802903",
          "exception": false,
          "start_time": "2021-11-09T00:01:19.775622",
          "status": "completed"
        },
        "tags": [],
        "colab": {
          "base_uri": "https://localhost:8080/"
        },
        "id": "3b962e6b",
        "outputId": "16e44c82-aaf9-4b58-9530-850937ee96d8"
      },
      "outputs": [
        {
          "output_type": "stream",
          "name": "stdout",
          "text": [
            "Making predictions for the following 5 houses:\n",
            "   a(cm)   h(cm)  permitivity     ratio  Measured frequency\n",
            "0    6.8  0.0800         2.32  0.003392                 835\n",
            "1    6.8  0.1590         2.32  0.006692                 829\n",
            "2    6.8  0.3180         2.32  0.013159                 815\n",
            "3    5.0  0.1590         2.32  0.009106                1128\n",
            "4    3.8  0.1524         2.49  0.011567                1443\n",
            "The predictions are\n",
            "[0.003392 0.006692 0.013159 0.009106 0.011567]\n"
          ]
        }
      ],
      "source": [
        "print(\"Making predictions for the following 5 houses:\")\n",
        "print(X.head())\n",
        "print(\"The predictions are\")\n",
        "print(melbourne_model.predict(X.head()))"
      ]
    },
    {
      "cell_type": "markdown",
      "id": "2d8b7eac",
      "metadata": {
        "papermill": {
          "duration": 0.01214,
          "end_time": "2021-11-09T00:01:19.827052",
          "exception": false,
          "start_time": "2021-11-09T00:01:19.814912",
          "status": "completed"
        },
        "tags": [],
        "id": "2d8b7eac"
      },
      "source": [
        "# Your Turn\n",
        "Try it out yourself in the **[Model Building Exercise](https://www.kaggle.com/kernels/fork/1404276)**"
      ]
    },
    {
      "cell_type": "markdown",
      "id": "82f900b6",
      "metadata": {
        "papermill": {
          "duration": 0.01165,
          "end_time": "2021-11-09T00:01:19.850961",
          "exception": false,
          "start_time": "2021-11-09T00:01:19.839311",
          "status": "completed"
        },
        "tags": [],
        "id": "82f900b6"
      },
      "source": [
        "---\n",
        "\n",
        "\n",
        "\n",
        "\n",
        "*Have questions or comments? Visit the [course discussion forum](https://www.kaggle.com/learn/intro-to-machine-learning/discussion) to chat with other learners.*"
      ]
    }
  ],
  "metadata": {
    "kernelspec": {
      "display_name": "Python 3",
      "language": "python",
      "name": "python3"
    },
    "language_info": {
      "codemirror_mode": {
        "name": "ipython",
        "version": 3
      },
      "file_extension": ".py",
      "mimetype": "text/x-python",
      "name": "python",
      "nbconvert_exporter": "python",
      "pygments_lexer": "ipython3",
      "version": "3.7.10"
    },
    "papermill": {
      "default_parameters": {},
      "duration": 11.041134,
      "end_time": "2021-11-09T00:01:20.574451",
      "environment_variables": {},
      "exception": null,
      "input_path": "__notebook__.ipynb",
      "output_path": "__notebook__.ipynb",
      "parameters": {},
      "start_time": "2021-11-09T00:01:09.533317",
      "version": "2.3.3"
    },
    "colab": {
      "provenance": []
    }
  },
  "nbformat": 4,
  "nbformat_minor": 5
}